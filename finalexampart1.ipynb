{
 "cells": [
  {
   "cell_type": "markdown",
   "metadata": {},
   "source": [
    "# 第一题代码：\n",
    "运行后按照提示输入a, b, x0, y0, N，用空格分隔"
   ]
  },
  {
   "cell_type": "code",
   "execution_count": 3,
   "metadata": {},
   "outputs": [
    {
     "name": "stdout",
     "output_type": "stream",
     "text": [
      "[3. 4.]\n",
      "[[ 3.0000000e+00  4.0000000e+00]\n",
      " [-4.0000000e+00  6.0000000e+00]\n",
      " [-9.0000000e+00 -8.0000000e+00]\n",
      " [-8.8000000e+01 -1.8000000e+01]\n",
      " [-7.7610000e+03 -1.7600000e+02]\n",
      " [-6.0233296e+07 -1.5522000e+04]]\n"
     ]
    }
   ],
   "source": [
    "import numpy as np\n",
    "a, b, x0, y0, N = list(map(int, input(\"Input a, b, x0, y0, N with a space.\\n\").split()))\n",
    "u = np.zeros((N+1, 2))\n",
    "u[0] = np.array([x0, y0])\n",
    "print(u[0])\n",
    "for i in range(N):\n",
    "    u[i+1] = np.array([1 - a * u[i][0]**2 + u[i][1], b * u[i][0]])\n",
    "    \n",
    "print(u)"
   ]
  },
  {
   "cell_type": "markdown",
   "metadata": {},
   "source": [
    "---\n",
    "# 第二题代码"
   ]
  },
  {
   "cell_type": "code",
   "execution_count": null,
   "metadata": {},
   "outputs": [],
   "source": [
    "import matplotlib.pyplot as plt\n",
    "\n",
    "a = 1.4\n",
    "b = 0.3\n",
    "x0, y0 = 0, 0\n",
    "N = int(input(\"Input N.\\n\"))\n",
    "\n",
    "u = np.zeros((N+1, 2))\n",
    "u[0] = np.array([x0, y0])\n",
    "print(u[0])\n",
    "for i in range(N):\n",
    "    u[i+1] = np.array([1 - a * u[i][0]**2 + u[i][1], b * u[i][0]])\n",
    "\n",
    "x = u[:, 0]\n",
    "y = u[:, 1]\n",
    "print(x)\n",
    "print(y)\n",
    "\n",
    "plt.plot(x, y, 'r-o')\n",
    "# 添加标题和标签\n",
    "plt.title('N = %d' % N)\n",
    "plt.xlabel('x axis')\n",
    "plt.ylabel('y axis')\n",
    "\n",
    "# 显示图例\n",
    "# plt.legend([''])\n",
    "\n",
    "# 显示网格\n",
    "plt.grid(True)\n",
    "\n",
    "plt.show()"
   ]
  }
 ],
 "metadata": {
  "kernelspec": {
   "display_name": "Python 3",
   "language": "python",
   "name": "python3"
  },
  "language_info": {
   "codemirror_mode": {
    "name": "ipython",
    "version": 3
   },
   "file_extension": ".py",
   "mimetype": "text/x-python",
   "name": "python",
   "nbconvert_exporter": "python",
   "pygments_lexer": "ipython3",
   "version": "3.11.5"
  }
 },
 "nbformat": 4,
 "nbformat_minor": 2
}
